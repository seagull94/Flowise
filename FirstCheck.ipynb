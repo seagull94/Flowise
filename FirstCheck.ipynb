{
  "nbformat": 4,
  "nbformat_minor": 0,
  "metadata": {
    "colab": {
      "provenance": [],
      "authorship_tag": "ABX9TyOcr85rS8pbv1Lghh91HZot",
      "include_colab_link": true
    },
    "kernelspec": {
      "name": "python3",
      "display_name": "Python 3"
    },
    "language_info": {
      "name": "python"
    }
  },
  "cells": [
    {
      "cell_type": "markdown",
      "metadata": {
        "id": "view-in-github",
        "colab_type": "text"
      },
      "source": [
        "<a href=\"https://colab.research.google.com/github/seagull94/Flowise/blob/main/FirstCheck.ipynb\" target=\"_parent\"><img src=\"https://colab.research.google.com/assets/colab-badge.svg\" alt=\"Open In Colab\"/></a>"
      ]
    },
    {
      "cell_type": "code",
      "execution_count": 3,
      "metadata": {
        "colab": {
          "base_uri": "https://localhost:8080/"
        },
        "id": "4w9sdd7hFKLf",
        "outputId": "ea87a428-8637-4251-cccc-5e465da38a84"
      },
      "outputs": [
        {
          "output_type": "stream",
          "name": "stdout",
          "text": [
            "DamyI love so much\n"
          ]
        }
      ],
      "source": [
        "hi=\"I love \"\n",
        "you=\"so much\"\n",
        "Ten= \"10\"\n",
        "Password= \"Damy\"\n",
        "\n",
        "Number = \"20\"\n",
        "\n",
        "result = Password+hi+you\n",
        "\n",
        "\n",
        "print(result)"
      ]
    },
    {
      "cell_type": "code",
      "source": [],
      "metadata": {
        "id": "gZisJpfIFRWN"
      },
      "execution_count": null,
      "outputs": []
    }
  ]
}